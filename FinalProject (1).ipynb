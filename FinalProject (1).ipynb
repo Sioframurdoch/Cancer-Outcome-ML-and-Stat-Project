{
  "cells": [
    {
      "cell_type": "code",
      "execution_count": null,
      "metadata": {
        "id": "51V7o9GF1Swb"
      },
      "outputs": [],
      "source": [
        "# Imports\n",
        "import os\n",
        "import pickle\n",
        "import numpy as np\n",
        "import torch \n",
        "import csv\n",
        "from torch import nn \n",
        "from torch import optim\n",
        "from torch.utils.data import Dataset, DataLoader, random_split, Subset\n",
        "from torchvision import datasets, transforms\n",
        "import tensorflow\n",
        "import pandas as pd\n",
        "\n",
        "from sklearn.model_selection import KFold, StratifiedKFold\n",
        "import matplotlib.pyplot as plt\n",
        "\n",
        "# from missingpy import MissForest"
      ]
    },
    {
      "cell_type": "code",
      "execution_count": null,
      "metadata": {
        "colab": {
          "base_uri": "https://localhost:8080/"
        },
        "id": "4VFIzkMZ1Vay",
        "outputId": "65b7b323-08c7-4677-d059-9e2bacc4ddf4"
      },
      "outputs": [
        {
          "output_type": "stream",
          "name": "stdout",
          "text": [
            "Mounted at /content/gdrive\n"
          ]
        }
      ],
      "source": [
        "# Mount Google Drive to access Zip\n",
        "from google.colab import drive\n",
        "drive.mount('/content/gdrive')"
      ]
    },
    {
      "cell_type": "code",
      "execution_count": null,
      "metadata": {
        "id": "lYT0MZLl1lqt",
        "colab": {
          "base_uri": "https://localhost:8080/"
        },
        "outputId": "6363abbe-c664-4a5d-c610-a2b1230cb608"
      },
      "outputs": [
        {
          "output_type": "stream",
          "name": "stdout",
          "text": [
            "replace userguide.PLCO.d053122.pdf? [y]es, [n]o, [A]ll, [N]one, [r]ename: "
          ]
        }
      ],
      "source": [
        "# Unzip Data\n",
        "!unzip /content/gdrive/MyDrive/package-plco-1161.2023-03-02.zip > /dev/null"
      ]
    },
    {
      "cell_type": "code",
      "execution_count": null,
      "metadata": {
        "id": "I4RvTKMS22DT",
        "colab": {
          "base_uri": "https://localhost:8080/"
        },
        "outputId": "1f93a6df-d162-45b1-f766-f806584a75fd"
      },
      "outputs": [
        {
          "output_type": "stream",
          "name": "stdout",
          "text": [
            "replace colo_data_mar22_d032222.csv? [y]es, [n]o, [A]ll, [N]one, [r]ename: "
          ]
        }
      ],
      "source": [
        "# Load the CSV file\n",
        "!unzip Colorectal/colo_data_mar22_d032222.csv.zip > /dev/null"
      ]
    },
    {
      "cell_type": "code",
      "execution_count": null,
      "metadata": {
        "id": "ePZetbh9jkx0"
      },
      "outputs": [],
      "source": [
        "# Load Data\n",
        "with open('colo_data_mar22_d032222.csv') as csvfile:\n",
        "    dataset = pd.read_csv(csvfile) \n",
        "\n",
        "    # Remove patients that never had a colon cancer diagnosis: \n",
        "    no_canc_idxs = dataset[dataset['colo_cancer'] == 0].index \n",
        "    dataset.drop(no_canc_idxs, inplace=True)\n",
        "\n",
        "    # Remove outcome features from dataset \n",
        "    dataset.pop('is_dead')\n",
        "    dataset.pop('is_dead_with_cod') \n",
        "    dataset.pop('mortality_exitdays') \n",
        "    dataset.pop('dth_days')  \n",
        "    # Death cert data\n",
        "    dataset.pop('d_seer_death') #Death cert cause of death \n",
        "    dataset.pop('d_cancersite')\n",
        "    dataset.pop('d_codeath_cat')\n",
        "    dataset.pop('d_dthc')\n",
        "    # Cause of death\n",
        "    dataset.pop('f_seer_death') # final underlying cause of death\n",
        "    dataset.pop('f_cancersite')\n",
        "    dataset.pop('f_codeath_cat')\n",
        "    dataset.pop('f_dthc')\n",
        "\n",
        "    # Removing identifiers from study that we don't need \n",
        "    dataset.pop('plco_id')\n",
        "    dataset.pop('build')\n",
        "    dataset.pop('build_cancers')\n",
        "    dataset.pop('build_death_cutoff')\n",
        "    dataset.pop('build_incidence_cutoff')\n",
        "\n",
        "    # Removing unrelated elligibility features from the dataset (leave in age at entry and prior history of cancer)\n",
        "    dataset.pop('entrydays_bq') # Days from date of radomisation until the participant has been radomised\n",
        "    dataset.pop('entrydays_dhq')\n",
        "    dataset.pop('entrydays_dqx')\n",
        "    dataset.pop('entrydays_sqx')\n",
        "    dataset.pop('entrydays_muq')\n",
        "\n",
        "    # Removing unrealted features related to consent forms\n",
        "    dataset.pop('dual')\n",
        "    dataset.pop('reconsent_outcome')\n",
        "    dataset.pop('reconsent_outcome_days')\n",
        "\n",
        "    # Removing unrelated cancer diagnosis features (reasons for visits)\n",
        "    dataset.pop('reasfollc') # Followup pos screen\n",
        "    dataset.pop('reasothc') # Other\n",
        "    dataset.pop('reassurvc') # Surveillance\n",
        "    dataset.pop('reassympc') # Symptomatic\n",
        "\n",
        "    # Convert categorical \"colo_topography\" features to numeric format\n",
        "    dataset['colo_topography']= dataset['colo_topography'].replace('C180', .180)\n",
        "    dataset['colo_topography']= dataset['colo_topography'].replace('C182', .182)\n",
        "    dataset['colo_topography']= dataset['colo_topography'].replace('C183', .183)\n",
        "    dataset['colo_topography']= dataset['colo_topography'].replace('C184', .184)\n",
        "    dataset['colo_topography']= dataset['colo_topography'].replace('C185', .185)\n",
        "    dataset['colo_topography']= dataset['colo_topography'].replace('C186', .186)\n",
        "    dataset['colo_topography']= dataset['colo_topography'].replace('C187', .187)\n",
        "    dataset['colo_topography']= dataset['colo_topography'].replace('C188', .188)\n",
        "    dataset['colo_topography']= dataset['colo_topography'].replace('C189', .189)\n",
        "    dataset['colo_topography']= dataset['colo_topography'].replace('C199', .199)\n",
        "    dataset['colo_topography']= dataset['colo_topography'].replace('C209', .209)\n",
        "    dataset['colo_topography']= dataset['colo_topography'].replace('C212', .212)\n",
        "    dataset['colo_topography']= dataset['colo_topography'].replace('C218', .218)\n",
        "\n",
        "    # Removing unrelated pathology imaging number features\n",
        "    dataset.pop('adenoma_has_deliv_heslide_img')\n",
        "    dataset.pop('colo_has_deliv_heslide_img')\n",
        "    dataset.pop('adenoma_num_heslide_imgs')\n",
        "    dataset.pop('colo_num_heslide_imgs')\n",
        "\n",
        "    # Remove unrelated features about study form compliance\n",
        "    dataset.pop('bq_returned')\n",
        "    dataset.pop('bq_compdays')\n",
        "    dataset.pop('bq_adminm')\n",
        "\n",
        "    # Remove features about study entry and exit \n",
        "    dataset.pop('colo_exitstat')\n",
        "    dataset.pop('fstcan_exitstat')\n",
        "    dataset.pop('colo_exitdays')\n",
        "    dataset.pop('fstcan_exitdays')\n",
        "    dataset.pop('mortality_exitstat')\n",
        "    dataset.pop('mortality_exitage')\n",
        "\n",
        "    # Remove features about study elligibility\n",
        "    dataset.pop('colo_eligible_sqx')\n",
        "    dataset.pop('colo_eligible_bq')\n",
        "    dataset.pop('colo_eligible_dqx')\n",
        "    dataset.pop('colo_eligible_dhq')\n",
        "    dataset.pop('arm')\n",
        "\n",
        "    # If Adenoma finding is empty make it 0\n",
        "    dataset['aden_count_eith35'].fillna(0)\n",
        "\n",
        "    # Remove patients who have fewer than 100 feature values(ie missing too much data)\n",
        "    dataset = dataset.dropna(thresh=100)   \n",
        "\n",
        "    # Remove features from the dataset that have NaN values for more than 3/4 of remaining patients\n",
        "    for column in dataset.columns:\n",
        "        # Calculate the percentage of NaN values in the column\n",
        "        percent_missing = dataset[column].isna().sum() / len(dataset)\n",
        "        if percent_missing > .50:\n",
        "            dataset.pop(column)\n",
        "\n",
        "    # Extract first row, which is list of features recorded (remaining)\n",
        "    list_of_features = []\n",
        "    for row in dataset:\n",
        "      list_of_features.append(row)\n",
        "      \n",
        "# Create Attribute Dictionary \n",
        "attr_dict = {\"patient\" : \"outcome\"}\n",
        "with open('colo_data_mar22_d032222.csv') as csvfile:\n",
        "  cocdata_dictreader = csv.DictReader(csvfile)\n",
        "  patient_number = 0 \n",
        "  for row in cocdata_dictreader:\n",
        "   \n",
        "    # Survived \n",
        "    if row['colo_exitstat'] == '8':\n",
        "      attr_dict[patient_number] =  0 # cancer-free \n",
        "    \n",
        "    # Died\n",
        "    if row['is_dead'] == '1':\n",
        "\n",
        "      # Determine Time To Death \n",
        "      if int(row['mortality_exitdays']) < 365: # under 1 year\n",
        "        attr_dict[patient_number] = 1\n",
        "\n",
        "      if 365 < int(row['mortality_exitdays']) < 365*3: # 1-3 years \n",
        "        attr_dict[patient_number] = 2\n",
        "    \n",
        "      if 365*3 < int(row['mortality_exitdays']) < 365*5: # 3-5 years\n",
        "        attr_dict[patient_number] = 3\n",
        "     \n",
        "      if 365*5 < int(row['mortality_exitdays']) < 365*7: # 5-7 years \n",
        "        attr_dict[patient_number] = 4 \n",
        "     \n",
        "      if 365*7 < int(row['mortality_exitdays']) < 365*10: # 7-10 years\n",
        "        attr_dict[patient_number] = 5 \n",
        "      \n",
        "      if 365*10 < int(row['mortality_exitdays']) < 365*12: # 10-12 years \n",
        "        attr_dict[patient_number] = 6\n",
        "      \n",
        "      if 12*365 < int(row['mortality_exitdays']):  #12+ years \n",
        "        attr_dict[patient_number] = 7 \n",
        "\n",
        "    # If entry empty, update to next patient without adding anything to dictionary \n",
        "    else: \n",
        "      patient_number += 1\n",
        "    \n",
        "    # Update count to next patient\n",
        "    patient_number += 1"
      ]
    },
    {
      "cell_type": "code",
      "execution_count": null,
      "metadata": {
        "id": "49yQRYMgwXIZ"
      },
      "outputs": [],
      "source": [
        "# # MissForest Impuation for missing values:\n",
        "# imputer = MissForest()\n",
        "# imputer.fit(dataset)\n",
        "\n",
        "# # Impute missing values in test data\n",
        "# imputed_dataset = imputer.transform(dataset)\n",
        "\n",
        "# Scale data\n",
        "from sklearn.preprocessing import MinMaxScaler\n",
        "# Create scaler object\n",
        "scaler = MinMaxScaler()\n",
        "\n",
        "# Normalize data\n",
        "norm_dataset = pd.DataFrame(scaler.fit_transform(dataset.values), columns=dataset.columns, index=dataset.index)\n",
        "dataset = norm_dataset\n",
        "\n",
        "# Mean impute missing dat\n",
        "means = dataset.mean(axis=0)\n",
        "dataset.fillna(means, inplace = True)\n",
        "\n",
        "# Replace Nan values with 0\n",
        "# dataset.fillna(0, inplace = True)"
      ]
    },
    {
      "cell_type": "code",
      "execution_count": null,
      "metadata": {
        "colab": {
          "base_uri": "https://localhost:8080/"
        },
        "id": "POd2kxFdqdFI",
        "outputId": "2bdaecfb-c76d-486b-bcda-d7a2a43bfd38"
      },
      "outputs": [
        {
          "output_type": "stream",
          "name": "stdout",
          "text": [
            "['num_cancc', 'colo_cancer', 'colo_icdO2_tmrloc', 'intstatc_cat', 'colo_appendix_cancer', 'colo_stage', 'colo_stage_7e', 'colo_stage_t', 'colo_stage_n', 'colo_stage_m', 'colo_pathstage', 'colo_pathstage_7e', 'colo_pathstage_t', 'colo_pathstage_n', 'colo_pathstage_m', 'colo_cancer_type', 'colo_location', 'colo_location_side', 'colo_location_summary', 'colo_location_rectum', 'colo_topography', 'colo_grade', 'colo_morphology', 'colo_behavior', 'curative_resectc', 'curative_radc', 'curative_chemoc', 'neoadjuvantc', 'primary_trtc', 'colo_exitage', 'colo_cancer_first', 'colo_seer', 'colo_annyr', 'primary_trtc_days', 'colo_cancer_diagdays', 'colo_mra_stat0', 'colo_mra_stat3', 'colo_mra_stat5', 'colo_mra_stat35', 'iaden_exclusion', 'educat', 'marital', 'occupat', 'pipe', 'cigar', 'sisters', 'brothers', 'asp', 'ibup', 'stool_history', 'colorect_history', 'asppd', 'ibuppd', 'hyperten_f', 'hearta_f', 'stroke_f', 'emphys_f', 'bronchit_f', 'diabetes_f', 'polyps_f', 'arthrit_f', 'osteopor_f', 'divertic_f', 'gallblad_f', 'bq_age', 'race7', 'hispanic_f', 'surg_biopsy', 'surg_resection', 'surg_prostatectomy', 'surg_any', 'enlpros_f', 'prosprob_f', 'urinate_f', 'vasect_f', 'smoked_f', 'smokea_f', 'rsmoker_f', 'cigpd_f', 'filtered_f', 'cig_stat', 'cig_stop', 'cig_years', 'pack_years', 'bmi_20', 'bmi_50', 'bmi_curr', 'bmi_curc', 'weight_f', 'weight20_f', 'weight50_f', 'height_f', 'bmi_20c', 'bmi_50c', 'colscrn_history', 'colon_comorbidity', 'liver_comorbidity', 'fh_cancer', 'colo_fh', 'colo_fh_cnt', 'entryage_bq', 'entryage_dhq', 'entryage_sqx', 'ph_any_bq', 'ph_any_dhq', 'ph_any_sqx', 'ph_colo_bq', 'ph_colo_dhq', 'ph_colo_sqx', 'ph_any_trial', 'ph_colo_trial', 'center', 'rndyear', 'sex', 'age', 'agelevel', 'fstcan_exitage', 'in_TGWAS_population']\n",
            "118\n"
          ]
        }
      ],
      "source": [
        "print(list_of_features)\n",
        "print(len(list_of_features))"
      ]
    },
    {
      "cell_type": "code",
      "execution_count": null,
      "metadata": {
        "id": "cZ6KGVLQ9IXI"
      },
      "outputs": [],
      "source": [
        "print(type(attr_dict))\n",
        "print(type(dataset))"
      ]
    },
    {
      "cell_type": "code",
      "execution_count": null,
      "metadata": {
        "id": "qJKU_E1561VM"
      },
      "outputs": [],
      "source": [
        "# Create samples \n",
        "patient_number = 0 \n",
        "samples = []\n",
        "\n",
        "for row in range(len(dataset)):\n",
        "  patient_features = dataset.iloc[row]\n",
        "  patient_features = patient_features.values.astype(np.float32)\n",
        "  \n",
        "  if patient_number in attr_dict: # make sure we have an outcome for the patient\n",
        "      label = attr_dict[patient_number]\n",
        "      label = np.int64(label)\n",
        "      samples.append((patient_features, label))    \n",
        "  patient_number += 1\n",
        "\n",
        "samples = np.array(samples, dtype=object)"
      ]
    },
    {
      "cell_type": "code",
      "execution_count": null,
      "metadata": {
        "colab": {
          "base_uri": "https://localhost:8080/"
        },
        "id": "pyaOLRI6AsBI",
        "outputId": "8dfc7d97-4f31-4318-94d7-2cb5588e775d"
      },
      "outputs": [
        {
          "output_type": "stream",
          "name": "stdout",
          "text": [
            "Starting Lengths Samples: 1356\n",
            "Lengths Samples Without Zero Class 540\n",
            "Length Zero Class Array: 816\n",
            "Final Length Samples 740\n"
          ]
        }
      ],
      "source": [
        "# Randomly subsample the survived group to reduce the size of the category\n",
        "print(\"Starting Lengths Samples:\" , len(samples))\n",
        "zero_class_all = []\n",
        "zero_class_idxs = []\n",
        "for i in range(len(samples)): \n",
        "  sample = samples[i]\n",
        "  if sample[1] == 0:\n",
        "    zero_class_all.append(sample)\n",
        "    zero_class_idxs.append(i)\n",
        "\n",
        "samples = np.delete(samples, zero_class_idxs, 0)\n",
        "print(\"Lengths Samples Without Zero Class\", len(samples))\n",
        "print(\"Length Zero Class Array:\", len(zero_class_all))\n",
        "\n",
        "\n",
        "import random\n",
        "zero_class_subsample = random.sample(zero_class_all, 200)\n",
        "zero_class_subsample = np.array(zero_class_subsample, dtype =object)\n",
        "samples = np.concatenate((samples, zero_class_subsample), 0)\n",
        "print(\"Final Length Samples\", len(samples))\n",
        "\n",
        "samples = np.array(samples, dtype=object)"
      ]
    },
    {
      "cell_type": "code",
      "execution_count": null,
      "metadata": {
        "colab": {
          "base_uri": "https://localhost:8080/"
        },
        "id": "LjS5zY56_CgF",
        "outputId": "529d42e3-804e-43b6-96fc-f6723cf0385b"
      },
      "outputs": [
        {
          "output_type": "stream",
          "name": "stdout",
          "text": [
            "Total Patients: 1355\n",
            "Total Patient Features: 119\n",
            "Number of class 0: 815\n",
            "Number of class 1: 7\n",
            "Number of class 2: 27\n",
            "Number of class 3: 29\n",
            "Number of class 4: 37\n",
            "Number of class 5: 71\n",
            "Number of class 6: 54\n",
            "Number of class 7: 315\n",
            "[0.00440717 0.51312046 0.13303123 0.12385666 0.09707684 0.05058934\n",
            " 0.06651562 0.01140268]\n"
          ]
        }
      ],
      "source": [
        "# okay so \"samples\" is the list of all the tuples, \"sample\" is an individual tuple where \n",
        "# \"sample[0]\" is the np.array of features where each feature is a float and \"sample[1]\" is \n",
        "# the outcome which is an int\n",
        "\n",
        "print(\"Total Patients:\", len(samples)) # Number of patients\n",
        "print(\"Total Patient Features:\", len(sample[0])) # Number of features associated with each patient\n",
        "\n",
        "# Find Number of patients in each class \n",
        "count_0 = 0 \n",
        "count_1 = 0 \n",
        "count_2 = 0 \n",
        "count_3 = 0 \n",
        "count_4 = 0 \n",
        "count_5 = 0 \n",
        "count_6 = 0 \n",
        "count_7 = 0 \n",
        "count_8 = 0 \n",
        "\n",
        "for i in range(len(samples)):\n",
        "    sample = samples[i]\n",
        "    if sample[1] == 0:\n",
        "      count_0 += 1 \n",
        "    if sample[1] == 1:\n",
        "      count_1 += 1 \n",
        "    if sample[1] == 2:\n",
        "      count_2 += 1 \n",
        "    if sample[1] == 3:\n",
        "      count_3 += 1 \n",
        "    if sample[1] == 4:\n",
        "      count_4 += 1 \n",
        "    if sample[1] == 5:\n",
        "      count_5 += 1 \n",
        "    if sample[1] == 6:\n",
        "      count_6 += 1 \n",
        "    if sample[1] == 7:\n",
        "      count_7 += 1\n",
        "    if sample[1] == 8:\n",
        "      count_8 += 1 \n",
        "\n",
        "print(\"Number of class 0:\", count_0)    \n",
        "print(\"Number of class 1:\", count_1)     \n",
        "print(\"Number of class 2:\", count_2)     \n",
        "print(\"Number of class 3:\", count_3)     \n",
        "print(\"Number of class 4:\", count_4)     \n",
        "print(\"Number of class 5:\", count_5)     \n",
        "print(\"Number of class 6:\", count_6)    \n",
        "print(\"Number of class 7:\", count_7)     \n",
        "# print(\"Number of class 8:\", count_8)  \n",
        "\n",
        "# Define class weights\n",
        "class_weights = 1 / np.array([count_0, count_1, count_2, count_3, count_4, count_5, count_6, count_7])\n",
        "class_weights = class_weights / np.sum(class_weights)\n",
        "print(class_weights)"
      ]
    },
    {
      "cell_type": "code",
      "execution_count": null,
      "metadata": {
        "id": "LvRZBhoQmMud"
      },
      "outputs": [],
      "source": [
        "# Data Loader\n",
        "class ColorectalCancerDataset(Dataset):\n",
        "    def __init__(self, sample_data, transform, shuffle=True):\n",
        "        self.sample_data = sample_data\n",
        "        self.transform = transform \n",
        "        self.shuffle = shuffle\n",
        "\n",
        "    def __len__(self):\n",
        "        return len(self.sample_data)\n",
        "\n",
        "    def __getitem__(self, idx):\n",
        "        patient_features, label = self.sample_data[idx]\n",
        "           \n",
        "        if self.transform is not None:\n",
        "          patient_features = torch.from_numpy(patient_features)\n",
        "          label = torch.tensor(label, dtype=torch.int64)\n",
        "    \n",
        "        return patient_features, label"
      ]
    },
    {
      "cell_type": "code",
      "execution_count": null,
      "metadata": {
        "id": "uEcSune6sqtJ"
      },
      "outputs": [],
      "source": [
        "# Load  train and test datasets using the data loader and split randomly\n",
        "loaded_data = ColorectalCancerDataset(samples, transform=not None, shuffle=True) \n",
        "train_data, test_data = random_split(loaded_data,[.8, .2])"
      ]
    },
    {
      "cell_type": "code",
      "execution_count": null,
      "metadata": {
        "id": "FkM6JufiPP3U"
      },
      "outputs": [],
      "source": [
        "# Split up the samples equally by class: \n",
        "class_counts = {i: 1 for i in range(8)}\n",
        "for features, label in samples:\n",
        "    class_counts[label] += 1\n",
        "\n",
        "# Calculate the number of samples (80%) to include in the training set for each class\n",
        "train_counts = {i: int(0.8* count) for i, count in class_counts.items()}\n",
        "\n",
        "# Initialize dictionaries to store the samples for each class\n",
        "train_samples = {i: [] for i in range(8)}\n",
        "test_samples = {i: [] for i in range(8)}\n",
        "\n",
        "# Split the samples into train and test sets for each class\n",
        "for features, label in samples:\n",
        "    if len(train_samples[label]) < train_counts[label]:\n",
        "        train_samples[label].append((features, label))\n",
        "    else:\n",
        "        test_samples[label].append((features, label))\n",
        "\n",
        "# Concatenate the samples for all classes into a single list\n",
        "train_samples = sum(train_samples.values(), [])\n",
        "test_samples = sum(test_samples.values(), [])"
      ]
    },
    {
      "cell_type": "code",
      "execution_count": null,
      "metadata": {
        "id": "qB_g7g08PFAK"
      },
      "outputs": [],
      "source": [
        "# Load the train and test datasets with equal distribution of classes using the dataloader\n",
        "train_data = ColorectalCancerDataset(train_samples, transform=not None, shuffle=True) \n",
        "test_data = ColorectalCancerDataset(test_samples, transform=not None, shuffle=True)"
      ]
    },
    {
      "cell_type": "code",
      "execution_count": null,
      "metadata": {
        "id": "Vg46RZbZabEq"
      },
      "outputs": [],
      "source": [
        "# PRINT TO TEST DATA LOADING\n",
        "for i in range(len(train_data)):\n",
        "    sample = train_data[i]\n",
        "    for value in sample: \n",
        "        print(value)\n",
        "    if i == 1: \n",
        "       break\n",
        "\n",
        "print(type(train_data))\n",
        "for batch in train_data: \n",
        "  x, y = batch\n",
        "  print(\"batch type is:\",type(batch))\n",
        "  print(\"x type is:\", type(x))\n",
        "  print(\"y type is:\", type(y))\n",
        "  break"
      ]
    },
    {
      "cell_type": "code",
      "execution_count": null,
      "metadata": {
        "colab": {
          "base_uri": "https://localhost:8080/"
        },
        "id": "yQcIrzgfWPeD",
        "outputId": "6ab32b82-bd96-4372-e050-6cb73b44985d"
      },
      "outputs": [
        {
          "output_type": "stream",
          "name": "stdout",
          "text": [
            "torch.Size([118])\n",
            "torch.Size([])\n"
          ]
        }
      ],
      "source": [
        "# Figure out the sizes of the data loaded in\n",
        "for batch in train_data: \n",
        "  x, y = batch\n",
        "  print(x.shape)\n",
        "  print(y.shape)\n",
        "  break"
      ]
    },
    {
      "cell_type": "code",
      "execution_count": null,
      "metadata": {
        "id": "FsM25OY6vjJA"
      },
      "outputs": [],
      "source": [
        "# Define Model: \n",
        "class ResNet(nn.Module):\n",
        "  def __init__(self):\n",
        "    super().__init__()\n",
        "    self.l1 = nn.Linear(118, 64) # affine layer: input is a the feature array\n",
        "    self.l2 = nn.Linear(64, 32)\n",
        "    self.l3 = nn.Linear(32, 8) # output size is 8 (classes 0 - 7)\n",
        "    self.do = nn.Dropout(0.1)\n",
        "\n",
        "  def forward(self, x):\n",
        "    h1 = nn.functional.relu(self.l1(x))\n",
        "    h2 = nn.functional.relu(self.l2(h1))\n",
        "    do = self.do(h2) # Dropout Value --> makes residual connection (improves speed of training)\n",
        "    logits = self.l3(do) \n",
        "    return logits\n",
        "\n",
        "model = ResNet() \n",
        "\n",
        "# Define Optimiser \n",
        "params = model.parameters() \n",
        "optimiser = optim.SGD(params, lr=1e-2) \n",
        "\n",
        "# Define Loss (objective function)\n",
        "loss = nn.CrossEntropyLoss(weight=torch.from_numpy(class_weights).float()) #weight=torch.from_numpy(class_weights).float()"
      ]
    },
    {
      "cell_type": "code",
      "execution_count": null,
      "metadata": {
        "colab": {
          "base_uri": "https://localhost:8080/"
        },
        "id": "EOKDN5TrwUAa",
        "outputId": "47d10a91-5dc6-4aef-9278-d747d3dd0fa2"
      },
      "outputs": [
        {
          "output_type": "stream",
          "name": "stdout",
          "text": [
            "Epoch 1: Training Loss = 0.56, Accuracy = 0.84\n",
            "Epoch 2: Training Loss = 0.61, Accuracy = 0.80\n",
            "Epoch 3: Training Loss = 0.62, Accuracy = 0.80\n",
            "Epoch 4: Training Loss = 0.61, Accuracy = 0.82\n",
            "Epoch 5: Training Loss = 0.61, Accuracy = 0.83\n"
          ]
        }
      ],
      "source": [
        "# Training Loop\n",
        "epochs = 5 # Number of loops through data set \n",
        "\n",
        "for epoch in range(epochs):\n",
        "  losses = list() \n",
        "  accuracies = list()\n",
        "  model.train() # Needed since using dropout\n",
        "  for batch in train_data: \n",
        "    x, y =  batch #(x is input (features) and y is label)    \n",
        "\n",
        "\n",
        "# SUPERVISED LEARNING: \n",
        "    # Step 1: Forward \n",
        "    l = model(x) #logits \n",
        "\n",
        "    # Step 2: Compute Objective Function \n",
        "    J = loss(l, y) \n",
        "\n",
        "    # Step 3: Clean the Gradient --> necessary for computing gradients \n",
        "    model.zero_grad() \n",
        "\n",
        "    # Step 4: Accumulate Partial Derivatives of J (with respect to parameters)\n",
        "    J.backward()\n",
        "\n",
        "    # Step 5: Step (in opposite direction of gradient)\n",
        "    optimiser.step() \n",
        "\n",
        "    losses.append(J.item())\n",
        "    accuracies.append(y.eq(l.detach().argmax().cpu()).float().mean())\n",
        "    \n",
        "  \n",
        "  print(f'Epoch {epoch + 1}: Training Loss = {torch.tensor(losses).mean():.2f}, Accuracy = {torch.tensor(accuracies).mean():.2f}')\n"
      ]
    },
    {
      "cell_type": "code",
      "execution_count": null,
      "metadata": {
        "id": "_iLvorXhwadR"
      },
      "outputs": [],
      "source": [
        "# Validation Loops\n",
        "losses = list()\n",
        "accuracies = list() \n",
        "model.eval() # Set model evaluation mode since dropout is sensitive to mode\n",
        "for batch in test_data: \n",
        "    x, y =  batch \n",
        "\n",
        "    # Step 1: Forward \n",
        "    with torch.no_grad(): \n",
        "      l = model(x)  # Just compute final outcome (no recording gradients etc) \n",
        "\n",
        "    # Step 2: Compute Objective Function \n",
        "    J = loss(l, y) \n",
        "\n",
        "    losses.append(J.item())\n",
        "    accuracies.append(y.eq(l.detach().argmax().cpu()).float().mean()) \n",
        "\n",
        "print(f'Final Values: Validation Loss = {torch.tensor(losses).mean():.2f}, Accuracy = {torch.tensor(accuracies).mean():.2f}')"
      ]
    },
    {
      "cell_type": "code",
      "execution_count": null,
      "metadata": {
        "id": "xBFgk15e3P6T"
      },
      "outputs": [],
      "source": [
        "## k-fold cross-validation\n",
        "\n",
        "# Create feature matrix & load data for model\n",
        "features, labels = zip(*samples)\n",
        "features = np.array(features)\n",
        "labels = np.array(labels)\n",
        "loaded_data = ColorectalCancerDataset(samples, transform=not None, shuffle=True)\n",
        "\n",
        "\n",
        "# Define the number of folds\n",
        "k_folds = 5\n",
        "\n",
        "# Cross-validation Splitter (stratified to preserve seperation between classes)\n",
        "kf = StratifiedKFold(n_splits=k_folds, shuffle=True, random_state=42)\n",
        "\n",
        "# Initialize empty lists to hold the validation accuracy and loss\n",
        "val_acc_history = []\n",
        "val_loss_history = []\n",
        "\n",
        "# Initialize empty list to hold the train loss \n",
        "train_loss_history = []\n",
        "\n",
        "# Loop over the folds\n",
        "for fold_idx, (train_idx, val_idx) in enumerate(kf.split(features, labels)):\n",
        "    \n",
        "    # Get the training and validation data\n",
        "    train_fold_data = Subset(loaded_data, train_idx)\n",
        "    test_fold_data = Subset(loaded_data, val_idx)\n",
        "\n",
        "    # Train the model\n",
        "    epochs = 5\n",
        "    model.train()\n",
        "    for epoch in range(epochs):\n",
        "        train_loss = 0.0\n",
        "        for batch in train_fold_data:\n",
        "          x, y = batch \n",
        "          \n",
        "          l = model(x) \n",
        "          J = loss(l, y) \n",
        "          model.zero_grad() \n",
        "          J.backward()\n",
        "          optimiser.step() \n",
        "        \n",
        "          # Store\n",
        "          train_loss += J.item()\n",
        "\n",
        "        # Compute the validation loss\n",
        "        val_loss = 0.0\n",
        "        val_acc = 0.0\n",
        "        \n",
        "        model.eval()\n",
        "        with torch.no_grad():\n",
        "            for batch in test_fold_data:\n",
        "              x, y = batch\n",
        "              l = model(x)\n",
        "              J = loss(l, y)\n",
        "              val_loss += J.item()\n",
        "              val_acc += (y.eq(l.detach().argmax().float().mean().item()))\n",
        "        val_loss /= len(test_fold_data)\n",
        "        val_acc /= len(test_fold_data)\n",
        "\n",
        "        # Append the validation accuracy and loss to the history lists\n",
        "        val_acc_history.append(val_acc)\n",
        "        val_loss_history.append(val_loss)\n",
        "\n",
        "        # Append the training loss to history list\n",
        "        train_loss_history.append(train_loss / len(train_fold_data))\n",
        "\n",
        "        # Print the results for this epoch\n",
        "        # print(f'Fold {fold_idx + 1}, Epoch {epoch + 1}: Train Loss = {train_loss / len(train_fold_data):.2f}, Val Loss = {val_loss:.2f}, Val Acc = {val_acc:.2f}')\n"
      ]
    },
    {
      "cell_type": "code",
      "execution_count": null,
      "metadata": {
        "id": "ex2qS-ySnkzy"
      },
      "outputs": [],
      "source": [
        "# PRINT OUT || PLOT RESULTS OF Stratified K-FOLD CROSS VALIDATION\n",
        "\n",
        "# Plot the validation accuracy\n",
        "plt.plot(val_acc_history, label='Validation Accuracy', color='blue')\n",
        "plt.xlabel('Epoch')\n",
        "plt.ylabel('Accuracy')\n",
        "plt.legend()\n",
        "plt.show()\n",
        "\n",
        "# Print out average accuracy and standard deviation of accuracy\n",
        "print('Average accuracy: {:.2f} %'.format(np.mean(val_acc_history)*100))\n",
        "print('Standard deviation of accuracy: {:.2f}'.format(np.std(val_acc_history)))\n",
        "\n",
        "\n",
        "# Plot learning curves\n",
        "plt.figure()\n",
        "plt.title(\"Learning Curves\")\n",
        "plt.plot(train_loss_history, label='Training Loss', color='blue')\n",
        "plt.plot(val_loss_history, label='Validation Loss', color='purple')\n",
        "plt.xlabel('Epoch')\n",
        "plt.ylabel('Loss')\n",
        "plt.legend()\n",
        "\n",
        "plt.show()\n",
        "\n",
        "\n",
        "# Compute ROC curve and AUC score\n",
        "y_true = []\n",
        "y_score = []\n",
        "with torch.no_grad():\n",
        "    for batch_idx, (x, y) in enumerate(test_data):\n",
        "        y_pred = model(x)\n",
        "        y_true.append(y.numpy())\n",
        "        y_score.append(y_pred.numpy())\n",
        "y_true = np.array(y_true)\n",
        "y_score = np.array(y_score)\n",
        "\n",
        "\n",
        "from sklearn.metrics import roc_curve, auc\n",
        "fpr = dict()\n",
        "tpr = dict()\n",
        "auc_score = dict()\n",
        "for i in range(8): \n",
        "  fpr[i], tpr[i], _ = roc_curve(y_true == i, y_score[:,i])\n",
        "  auc_score[i] = auc(fpr[i], tpr[i])\n",
        "\n",
        "# Plot ROC curve\n",
        "plt.figure()\n",
        "for i in range(8):\n",
        "    plt.plot(fpr[i], tpr[i], label='Class %d (AUC = %0.2f)' % (i, auc_score[i]))\n",
        "plt.plot([0, 1], [0, 1], color='black', linestyle='--')\n",
        "plt.xlim([0.0, 1.0])\n",
        "plt.ylim([0.0, 1.05])\n",
        "plt.xlabel('False Positive Rate')\n",
        "plt.ylabel('True Positive Rate')\n",
        "plt.title('Receiver Operating Characteristic Curves')\n",
        "plt.legend(loc=\"lower right\")\n",
        "plt.show()"
      ]
    },
    {
      "cell_type": "code",
      "execution_count": null,
      "metadata": {
        "id": "7M-sFlCYndjW"
      },
      "outputs": [],
      "source": [
        "# Another way to look at interpretibility = LIME\n",
        "# !pip install lime\n",
        "import lime \n",
        "import lime.lime_tabular\n",
        "import random\n",
        "\n",
        "# Store just the list of features from the train data\n",
        "train_features = []\n",
        "train_labels = []\n",
        "for batch in train_samples: \n",
        "  feature, label = batch\n",
        "  train_features.append(feature)\n",
        "  train_labels.append(label)\n",
        "train_features = np.array(train_features)\n",
        "train_labels = np.array(train_labels)\n",
        "print(train_features.shape)\n",
        "\n",
        "def predict_proba_wrapper(patient_features):\n",
        "    inputs = torch.tensor(patient_features).float()\n",
        "    outputs = model(inputs)\n",
        "    return outputs.detach().numpy()\n",
        "\n",
        "explainer = lime.lime_tabular.LimeTabularExplainer(\n",
        "    train_features,\n",
        "    feature_names=list_of_features,\n",
        "    class_names=[\"0\", \"1\", \"2\", \"3\", \"4\", \n",
        "                   \"5\", \"6\", \"7\", \"8\"],\n",
        "    discretize_continuous=False,\n",
        "    sample_around_instance=True,\n",
        "    verbose=False,\n",
        "    mode='classification'\n",
        ")\n",
        "\n",
        "# Select a random patient to analyse \n",
        "def random_patient(): \n",
        "  return(random.randint(0,1000))\n",
        "\n",
        "# Select a patient from a given class to analyse \n",
        "def patient(desired_class):\n",
        "  for i in range(len(train_samples)):\n",
        "    sample = train_samples[i]\n",
        "    if sample[1] == desired_class:\n",
        "      desired_index = i\n",
        "      break\n",
        "  return(desired_index)\n",
        "\n",
        "exp = explainer.explain_instance(\n",
        "    train_features[patient(0)],\n",
        "    predict_proba_wrapper,\n",
        "    num_features=5, # can tune this value to see which are most important \n",
        ")\n"
      ]
    },
    {
      "cell_type": "code",
      "execution_count": null,
      "metadata": {
        "id": "OVyjh5DYk9cQ"
      },
      "outputs": [],
      "source": [
        "# Testing\n",
        "i = 1\n",
        "print(patient(i))\n",
        "print(train_features[patient(i)])\n",
        "assert train_labels[patient(i)] == i # check that the labels match"
      ]
    },
    {
      "cell_type": "code",
      "execution_count": null,
      "metadata": {
        "colab": {
          "base_uri": "https://localhost:8080/",
          "height": 506
        },
        "id": "mJt-fxiA_-l1",
        "outputId": "bf48f071-7af6-4b8c-d8cb-4c713f411927"
      },
      "outputs": [
        {
          "output_type": "stream",
          "name": "stdout",
          "text": [
            "['arm', 'fh_cancer', 'asp', 'cig_stat', 'stool_history']\n"
          ]
        },
        {
          "output_type": "display_data",
          "data": {
            "text/plain": [
              "<Figure size 640x480 with 1 Axes>"
            ],
            "image/png": "[encoded data removed]"
          },
          "metadata": {}
        }
      ],
      "source": [
        "# Print out LIME Results\n",
        "labels = [x[0] for x in exp.as_list()]\n",
        "print(labels)\n",
        "# label_interp = ['Treatment \\n Days', 'Diagnosis \\n Days', 'Days Until \\n Treatment', 'FSG Exam','Right Side \\n Adenoma']\n",
        "label_interp = ['Worst Finding Right \\n Side Adenoma', 'Days Until \\n Endoscopy', 'Size Largest \\n Adenoma', 'Left Side \\n Adenoma','Days Until \\n Diagnosis']\n",
        "\n",
        "values = [x[1] for x in exp.as_list()]\n",
        "\n",
        "plt.bar(labels, values)\n",
        "plt.xlabel('Feature')\n",
        "plt.ylabel('Importance')\n",
        "plt.title('Feature Importances for Patient of Class XX \\n as Determined by LIME ')\n",
        "plt.xticks(fontsize='8')\n",
        "plt.show()"
      ]
    }
  ],
  "metadata": {
    "colab": {
      "provenance": []
    },
    "kernelspec": {
      "display_name": "Python 3",
      "name": "python3"
    },
    "language_info": {
      "name": "python"
    }
  },
  "nbformat": 4,
  "nbformat_minor": 0
}